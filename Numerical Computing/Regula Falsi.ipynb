{
 "cells": [
  {
   "cell_type": "code",
   "execution_count": 12,
   "id": "a804e36d",
   "metadata": {},
   "outputs": [],
   "source": [
    "import numpy as np\n",
    "import sympy as sp\n",
    "import matplotlib.pyplot as plt\n"
   ]
  },
  {
   "cell_type": "code",
   "execution_count": 54,
   "id": "eef2f477",
   "metadata": {},
   "outputs": [],
   "source": [
    "# Define the equation as a symbolic expression\n",
    "x = sp.symbols('x')\n",
    "equation = sp.exp(x) - 3*x\n",
    "iterations = [0]"
   ]
  },
  {
   "cell_type": "code",
   "execution_count": 31,
   "id": "1072be50",
   "metadata": {},
   "outputs": [],
   "source": [
    "def eq_function(x_value):\n",
    "    result=equation.subs(x, x_value)\n",
    "    return result"
   ]
  },
  {
   "cell_type": "code",
   "execution_count": 32,
   "id": "b2ff2a3b",
   "metadata": {},
   "outputs": [],
   "source": [
    "def regula_falsi(x1,x2,max_iterations,tolearance):\n",
    "    x_values = [x1,x2]\n",
    "    \n",
    "\n",
    "    for i in range(max_iterations):\n",
    "        x3 = (x1*eq_function(x2) - x2*eq_function(x1))/(eq_function(x2)-eq_function(x1))\n",
    "        print(f\"Result Of x in each iteration : {x3}\")\n",
    "        x_values.append(x3)\n",
    "        iterations.append(i + 1)\n",
    "        if(eq_function(x3) * eq_function(x1)>0):\n",
    "            x2=x3\n",
    "        else:\n",
    "            x1=x3\n",
    "\n",
    "        if abs(x2 - x1) < tolerance:\n",
    "            break\n",
    "\n",
    "    return x_values, iterations\n",
    "    "
   ]
  },
  {
   "cell_type": "code",
   "execution_count": 56,
   "id": "953c1878",
   "metadata": {},
   "outputs": [
    {
     "name": "stdout",
     "output_type": "stream",
     "text": [
      "Result Of x in each iteration : 1.51068668800299\n",
      "Result Of x in each iteration : 1.51216089820391\n",
      "Result Of x in each iteration : 1.51213449525073\n",
      "Result Of x in each iteration : 1.51213455177861\n",
      "Result Of x in each iteration : 1.51213455165758\n",
      "Result Of x in each iteration : 1.51213455165784\n",
      "Result Of x in each iteration : 1.51213455165784\n",
      "Result Of x in each iteration : 1.51213455165784\n",
      "Result Of x in each iteration : 1.51213455165784\n",
      "Result Of x in each iteration : 1.51213455165784\n",
      "Result Of x in each iteration : 1.51213455165784\n",
      "Result Of x in each iteration : 1.51213455165784\n",
      "Result Of x in each iteration : 1.51213455165784\n",
      "Result Of x in each iteration : 1.51213455165784\n",
      "Result Of x in each iteration : 1.51213455165784\n",
      "Result Of x in each iteration : 1.51213455165784\n",
      "Result Of x in each iteration : 1.51213455165784\n",
      "Result Of x in each iteration : 1.51213455165784\n",
      "Result Of x in each iteration : 1.51213455165784\n",
      "Result Of x in each iteration : 1.51213455165784\n",
      "Result Of x in each iteration : 1.51213455165784\n",
      "Result Of x in each iteration : 1.51213455165784\n",
      "Result Of x in each iteration : 1.51213455165784\n",
      "Result Of x in each iteration : 1.51213455165784\n",
      "Result Of x in each iteration : 1.51213455165784\n",
      "Result Of x in each iteration : 1.51213455165784\n",
      "Result Of x in each iteration : 1.51213455165784\n",
      "Result Of x in each iteration : 1.51213455165784\n",
      "Result Of x in each iteration : 1.51213455165784\n",
      "Result Of x in each iteration : 1.51213455165784\n",
      "Result Of x in each iteration : 1.51213455165784\n",
      "Result Of x in each iteration : 1.51213455165784\n",
      "Result Of x in each iteration : 1.51213455165784\n",
      "Result Of x in each iteration : 1.51213455165784\n",
      "Result Of x in each iteration : 1.51213455165784\n",
      "Result Of x in each iteration : 1.51213455165784\n",
      "Result Of x in each iteration : 1.51213455165784\n",
      "Result Of x in each iteration : 1.51213455165784\n",
      "Result Of x in each iteration : 1.51213455165784\n",
      "Result Of x in each iteration : 1.51213455165784\n",
      "Result Of x in each iteration : 1.51213455165784\n",
      "Result Of x in each iteration : 1.51213455165784\n",
      "Result Of x in each iteration : 1.51213455165784\n",
      "Result Of x in each iteration : 1.51213455165784\n",
      "Result Of x in each iteration : 1.51213455165784\n",
      "Result Of x in each iteration : 1.51213455165784\n",
      "Result Of x in each iteration : 1.51213455165784\n",
      "Result Of x in each iteration : 1.51213455165784\n",
      "Result Of x in each iteration : 1.51213455165784\n",
      "Result Of x in each iteration : 1.51213455165784\n",
      "Result Of x in each iteration : 1.51213455165784\n",
      "Result Of x in each iteration : 1.51213455165784\n",
      "Result Of x in each iteration : 1.51213455165784\n",
      "Result Of x in each iteration : 1.51213455165784\n",
      "Result Of x in each iteration : 1.51213455165784\n",
      "Result Of x in each iteration : 1.51213455165784\n",
      "Result Of x in each iteration : 1.51213455165784\n",
      "Result Of x in each iteration : 1.51213455165784\n",
      "Result Of x in each iteration : 1.51213455165784\n",
      "Result Of x in each iteration : 1.51213455165784\n",
      "Result Of x in each iteration : 1.51213455165784\n",
      "Result Of x in each iteration : 1.51213455165784\n",
      "Result Of x in each iteration : 1.51213455165784\n",
      "Result Of x in each iteration : 1.51213455165784\n",
      "Result Of x in each iteration : 1.51213455165784\n",
      "Result Of x in each iteration : 1.51213455165784\n",
      "Result Of x in each iteration : 1.51213455165784\n",
      "Result Of x in each iteration : 1.51213455165784\n",
      "Result Of x in each iteration : 1.51213455165784\n",
      "Result Of x in each iteration : 1.51213455165784\n",
      "Result Of x in each iteration : 1.51213455165784\n",
      "Result Of x in each iteration : 1.51213455165784\n",
      "Result Of x in each iteration : 1.51213455165784\n",
      "Result Of x in each iteration : 1.51213455165784\n",
      "Result Of x in each iteration : 1.51213455165784\n",
      "Result Of x in each iteration : 1.51213455165784\n",
      "Result Of x in each iteration : 1.51213455165784\n",
      "Result Of x in each iteration : 1.51213455165784\n",
      "Result Of x in each iteration : 1.51213455165784\n",
      "Result Of x in each iteration : 1.51213455165784\n",
      "Result Of x in each iteration : 1.51213455165784\n",
      "Result Of x in each iteration : 1.51213455165784\n",
      "Result Of x in each iteration : 1.51213455165784\n",
      "Result Of x in each iteration : 1.51213455165784\n",
      "Result Of x in each iteration : 1.51213455165784\n",
      "Result Of x in each iteration : 1.51213455165784\n",
      "Result Of x in each iteration : 1.51213455165784\n",
      "Result Of x in each iteration : 1.51213455165784\n",
      "Result Of x in each iteration : 1.51213455165784\n",
      "Result Of x in each iteration : 1.51213455165784\n",
      "Result Of x in each iteration : 1.51213455165784\n",
      "Result Of x in each iteration : 1.51213455165784\n",
      "Result Of x in each iteration : 1.51213455165784\n",
      "Result Of x in each iteration : 1.51213455165784\n",
      "Result Of x in each iteration : 1.51213455165784\n",
      "Result Of x in each iteration : 1.51213455165784\n",
      "Result Of x in each iteration : 1.51213455165784\n",
      "Result Of x in each iteration : 1.51213455165784\n",
      "Result Of x in each iteration : 1.51213455165784\n",
      "Result Of x in each iteration : 1.51213455165784\n"
     ]
    }
   ],
   "source": [
    "x1 = 1.5\n",
    "x2 = 1.6\n",
    "max_iterations = 100  # Example: Change this to an integer value\n",
    "tolerance = 1e-6\n",
    "\n",
    "x_values, iterations = regula_falsi(x1, x2, max_iterations, tolerance)"
   ]
  },
  {
   "cell_type": "code",
   "execution_count": 53,
   "id": "5c0fe0a0",
   "metadata": {},
   "outputs": [
    {
     "data": {
      "image/png": "[encoded data removed]",
      "text/plain": [
       "<Figure size 640x480 with 1 Axes>"
      ]
     },
     "metadata": {},
     "output_type": "display_data"
    }
   ],
   "source": [
    "# Plot the convergence\n",
    "iterations = list(range(len(x_values)))\n",
    "plt.plot(iterations, x_values, marker='o', linestyle='-')\n",
    "plt.xlabel(\"Iterations\")\n",
    "plt.ylabel(\"x\")\n",
    "plt.title(\"Regula Falsi Method Convergence\")\n",
    "plt.grid(True)\n",
    "plt.show()"
   ]
  },
  {
   "cell_type": "code",
   "execution_count": null,
   "id": "3bb96c06",
   "metadata": {},
   "outputs": [],
   "source": []
  }
 ],
 "metadata": {
  "kernelspec": {
   "display_name": "Python 3 (ipykernel)",
   "language": "python",
   "name": "python3"
  },
  "language_info": {
   "codemirror_mode": {
    "name": "ipython",
    "version": 3
   },
   "file_extension": ".py",
   "mimetype": "text/x-python",
   "name": "python",
   "nbconvert_exporter": "python",
   "pygments_lexer": "ipython3",
   "version": "3.11.3"
  }
 },
 "nbformat": 4,
 "nbformat_minor": 5
}
